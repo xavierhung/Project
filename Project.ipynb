{
 "cells": [
  {
   "cell_type": "code",
   "execution_count": 2,
   "metadata": {},
   "outputs": [],
   "source": [
    "import os\n",
    "import pandas as pd\n",
    "import numpy as np\n",
    "import warnings\n",
    "warnings.filterwarnings('ignore')\n",
    "\n",
    "redlight_loc = pd.read_csv('red-light-camera-locations.csv')\n",
    "redlight_violations = pd.read_csv('red-light-camera-violations.csv')\n",
    "\n",
    "speed_loc = pd.read_csv('speed-camera-locations.csv')\n",
    "speed_violations = pd.read_csv('speed-camera-violations.csv')"
   ]
  },
  {
   "cell_type": "code",
   "execution_count": 6,
   "metadata": {},
   "outputs": [
    {
     "data": {
      "text/plain": [
       "CALIFORNIA AND DIVERSEY          4593\n",
       "KOSTNER AND NORTH                4073\n",
       "BELMONT AND KEDZIE               3899\n",
       "STONEY ISLAND AND 79TH           3367\n",
       "ROOSEVELT AND HALSTED            3161\n",
       "VAN BUREN AND WESTERN            3155\n",
       "LAKE SHORE DR AND BELMONT        3149\n",
       "ASHLAND AND FULLERTON            3148\n",
       "HOLLYWOOD AND SHERIDAN           3131\n",
       "STATE AND 79TH                   3128\n",
       "WENTWORTH AND GARFIELD           3128\n",
       "LAFAYETTE AND 87TH               3111\n",
       "DIVISION AND DAMEN               3100\n",
       "CORTLAND AND ASHLAND             3094\n",
       "ARCHER AND CICERO                3091\n",
       "OGDEN AND KOSTNER                3089\n",
       "99TH AND HALSTED                 3088\n",
       "75TH AND STATE                   3085\n",
       "55TH AND WESTERN                 3080\n",
       "STONEY ISLAND AND 76TH           3080\n",
       "STONY ISLAND/CORNELL AND 67TH    3076\n",
       "63RD AND STATE                   3066\n",
       "PETERSON AND WESTERN             3064\n",
       "HALSTED AND DIVISION             3063\n",
       "87TH AND VINCENNES               3057\n",
       "CHICAGO AND CLARK                3055\n",
       "COLUMBUS AND ILLINOIS            3029\n",
       "ASHLAND AND LAWRENCE             3027\n",
       "CANAL AND ROOSEVELT              3025\n",
       "CICERO AND WASHINGTON            3015\n",
       "                                 ... \n",
       "LAKE AND UPPER WACKER             492\n",
       "ARCHER/NARRAGANSETT AND 55TH      484\n",
       "ASHLAND AND DIVERSEY              476\n",
       "83RD AND STONY ISLAND             475\n",
       "CORNELL DRIVE AND 57TH            475\n",
       "VINCENNES AND 111TH               467\n",
       "ASHLAND AND ARCHER                465\n",
       "DAMEN AND ELSTON                  447\n",
       "MADISON AND CENTRAL               445\n",
       "COTTAGE GROVE AND 95TH            441\n",
       "GARFIELD AND ASHLAND              424\n",
       "HALSTED AND 83RD                  407\n",
       "BLUE ISLAND AND DAMEN             405\n",
       "MILWAUKEE AND CENTRAL             396\n",
       "FOSTER AND NORTHWEST HIGHWAY      386\n",
       "JEFFERY AND 79TH                  383\n",
       "WESTERN AND PRATT                 370\n",
       "31ST AND CALIFORNIA               368\n",
       "ASHLAND AND 47TH                  341\n",
       "ASHLAND AND 63RD                  336\n",
       "CENTRAL AND MILWAUKEE             331\n",
       "NORTHWEST HIGHWAY AND FOSTER      330\n",
       "HALSTED AND 63RD                  328\n",
       "ELSTON AND FOSTER                 317\n",
       "HARLEM AND NORTHWEST HWY          303\n",
       "WESTERN AND 51ST                  299\n",
       "WESTERN AND ARMITAGE              272\n",
       "PULASKI AND MONTROSE              272\n",
       "LINCOLN AND MCCORMICK             249\n",
       "KIMBALL AND LINCOLN               145\n",
       "Name: INTERSECTION, Length: 183, dtype: int64"
      ]
     },
     "execution_count": 6,
     "metadata": {},
     "output_type": "execute_result"
    }
   ],
   "source": [
    "# find top 3 intersections that have the most red light camera violations\n",
    "redlight_violations['INTERSECTION'].value_counts()"
   ]
  },
  {
   "cell_type": "code",
   "execution_count": 8,
   "metadata": {},
   "outputs": [],
   "source": [
    "# data sets containing subsets of top 3 intersections with the most red light violations\n",
    "california_diversey_redlight = redlight_violations.loc[redlight_violations['INTERSECTION'] == 'CALIFORNIA AND DIVERSEY']\n",
    "kostner_north_redlight = redlight_violations.loc[redlight_violations['INTERSECTION'] == 'KOSTNER AND NORTH']\n",
    "belmont_kedzie_redlight = redlight_violations.loc[redlight_violations['INTERSECTION'] == 'BELMONT AND KEDZIE']"
   ]
  },
  {
   "cell_type": "code",
   "execution_count": null,
   "metadata": {},
   "outputs": [],
   "source": []
  }
 ],
 "metadata": {
  "kernelspec": {
   "display_name": "Python 3",
   "language": "python",
   "name": "python3"
  },
  "language_info": {
   "codemirror_mode": {
    "name": "ipython",
    "version": 3
   },
   "file_extension": ".py",
   "mimetype": "text/x-python",
   "name": "python",
   "nbconvert_exporter": "python",
   "pygments_lexer": "ipython3",
   "version": "3.7.0"
  }
 },
 "nbformat": 4,
 "nbformat_minor": 2
}
